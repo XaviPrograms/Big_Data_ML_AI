{
  "nbformat": 4,
  "nbformat_minor": 0,
  "metadata": {
    "colab": {
      "provenance": [],
      "authorship_tag": "ABX9TyPhwudkPGURJvgQm9qHY8ST",
      "include_colab_link": true
    },
    "kernelspec": {
      "name": "python3",
      "display_name": "Python 3"
    },
    "language_info": {
      "name": "python"
    }
  },
  "cells": [
    {
      "cell_type": "markdown",
      "metadata": {
        "id": "view-in-github",
        "colab_type": "text"
      },
      "source": [
        "<a href=\"https://colab.research.google.com/github/XaviPrograms/Big_Data_ML_AI/blob/main/First_test.ipynb\" target=\"_parent\"><img src=\"https://colab.research.google.com/assets/colab-badge.svg\" alt=\"Open In Colab\"/></a>"
      ]
    },
    {
      "cell_type": "code",
      "execution_count": 3,
      "metadata": {
        "colab": {
          "base_uri": "https://localhost:8080/"
        },
        "id": "H0A14xnHKWyq",
        "outputId": "c89067a6-12c7-4c8c-8d52-209030264732"
      },
      "outputs": [
        {
          "output_type": "stream",
          "name": "stdout",
          "text": [
            "Requirement already satisfied: pyspark in /usr/local/lib/python3.10/dist-packages (3.5.3)\n",
            "Requirement already satisfied: py4j==0.10.9.7 in /usr/local/lib/python3.10/dist-packages (from pyspark) (0.10.9.7)\n"
          ]
        }
      ],
      "source": [
        "# Las aplicaciones de Spark en Python se pueden ejecutar con el bin/spark-submitscript que incluye Spark en tiempo de ejecución, o incluyéndolo en su setup.py como:\n",
        "install_requires=[ 'pyspark=={site.SPARK_VERSION}' ]\n",
        "# Para la ejecución en el espacio colaborativo, se instala la API de Spark para Python (pyspark):\n",
        "!pip install pyspark"
      ]
    },
    {
      "cell_type": "code",
      "source": [
        "# spark is from the previous example.\n",
        "from pyspark import SparkContext\n",
        "from pyspark.sql.session import SparkSession\n",
        "sc = SparkContext('local')\n",
        "spark = SparkSession(sc)\n",
        "# El cuarteto de Anscombe comprende cuatro conjuntos de datos que tienen estadísticasdescriptivas simples casi idénticas, pero, tienen\n",
        "# distribuciones muy diferentes y parecen muy diferentes cuando se grafican.\n",
        "# Cada conjunto de datos consta de once ( x , y ) puntos.\n",
        "# Fueron construidos en 1973 por el estadístico Francis Anscombe para demostrar tanto laimportancia de graficar los datos al analizarlos\n",
        "# como el efecto de los valores atípicos y otras observaciones influyentes.en propiedades estadísticas\n",
        "\n",
        "# A JSON dataset is pointed to by path.\n",
        "# The path can be either a single text file or a directory storing text files\n",
        "path = \"/content/sample_data/anscombe.json\"\n",
        "AnscombeDF = spark.read.json(path)\n",
        "\n",
        "# The inferred schema can be visualized using the printSchema() method\n",
        "AnscombeDF.printSchema()"
      ],
      "metadata": {
        "colab": {
          "base_uri": "https://localhost:8080/"
        },
        "id": "DJe9r-TYKqgL",
        "outputId": "e80d86b1-16ca-4674-80bc-8aae0cb9f9eb"
      },
      "execution_count": 4,
      "outputs": [
        {
          "output_type": "stream",
          "name": "stdout",
          "text": [
            "root\n",
            " |-- Series: string (nullable = true)\n",
            " |-- X: double (nullable = true)\n",
            " |-- Y: double (nullable = true)\n",
            " |-- _corrupt_record: string (nullable = true)\n",
            "\n"
          ]
        }
      ]
    },
    {
      "cell_type": "code",
      "source": [
        "# Creates a temporary view using the DataFrame\n",
        "AnscombeDF.createOrReplaceTempView(\"anscombe\")\n",
        "# SQL statements can be run by using the sql methods provided by spark\n",
        "MatrizDF = spark.sql(\"SELECT Series,X,Y FROM anscombe WHERE Series in ('I','II','III','IV') \")\n",
        "MatrizDF.show()\n",
        "#+------+----+-----+\n",
        "#|Series| X| Y|\n",
        "#+------+----+-----+\n",
        "#| I|10.0| 8.04|\n",
        "#| I| 8.0| 6.95|\n",
        "#| I|13.0| 7.58|\n",
        "#......\n",
        "# Alternatively, a DataFrame can be created for a JSON dataset represented by\n",
        "# an RDD[String] storing one JSON object per string\n",
        "jsonStrings = ['{\"Series\":\"V\", \"X\":8.0, \"Y\":6.58}']\n",
        "otherSeriesRDD = sc.parallelize(jsonStrings)\n",
        "otherSeriesRDD = spark.read.json(otherSeriesRDD)\n",
        "otherSeriesRDD.show()\n",
        "# --------+----+----+\n",
        "# |Series |X |Y |\n",
        "# +-------+----+----+\n",
        "# | V| 8.0|6.58|\n",
        "# +-------+----+----+"
      ],
      "metadata": {
        "colab": {
          "base_uri": "https://localhost:8080/"
        },
        "id": "p0SBDlo7Kqog",
        "outputId": "831cea31-8a18-4b0a-e74a-f5e31b66c109"
      },
      "execution_count": 5,
      "outputs": [
        {
          "output_type": "stream",
          "name": "stdout",
          "text": [
            "+------+----+-----+\n",
            "|Series|   X|    Y|\n",
            "+------+----+-----+\n",
            "|     I|10.0| 8.04|\n",
            "|     I| 8.0| 6.95|\n",
            "|     I|13.0| 7.58|\n",
            "|     I| 9.0| 8.81|\n",
            "|     I|11.0| 8.33|\n",
            "|     I|14.0| 9.96|\n",
            "|     I| 6.0| 7.24|\n",
            "|     I| 4.0| 4.26|\n",
            "|     I|12.0|10.84|\n",
            "|     I| 7.0| 4.81|\n",
            "|     I| 5.0| 5.68|\n",
            "|    II|10.0| 9.14|\n",
            "|    II| 8.0| 8.14|\n",
            "|    II|13.0| 8.74|\n",
            "|    II| 9.0| 8.77|\n",
            "|    II|11.0| 9.26|\n",
            "|    II|14.0|  8.1|\n",
            "|    II| 6.0| 6.13|\n",
            "|    II| 4.0|  3.1|\n",
            "|    II|12.0| 9.13|\n",
            "+------+----+-----+\n",
            "only showing top 20 rows\n",
            "\n",
            "+------+---+----+\n",
            "|Series|  X|   Y|\n",
            "+------+---+----+\n",
            "|     V|8.0|6.58|\n",
            "+------+---+----+\n",
            "\n"
          ]
        }
      ]
    },
    {
      "cell_type": "code",
      "source": [],
      "metadata": {
        "id": "ZZWr3g1BKqrN"
      },
      "execution_count": null,
      "outputs": []
    },
    {
      "cell_type": "code",
      "source": [],
      "metadata": {
        "id": "gLiSx8uOKquS"
      },
      "execution_count": null,
      "outputs": []
    },
    {
      "cell_type": "code",
      "source": [],
      "metadata": {
        "id": "isCaR6cUKqwv"
      },
      "execution_count": null,
      "outputs": []
    },
    {
      "cell_type": "code",
      "source": [],
      "metadata": {
        "id": "cbnYIMF9KqzB"
      },
      "execution_count": null,
      "outputs": []
    }
  ]
}